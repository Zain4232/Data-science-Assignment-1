{
 "cells": [
  {
   "cell_type": "code",
   "execution_count": 1,
   "id": "7c3895f7",
   "metadata": {},
   "outputs": [
    {
     "name": "stdout",
     "output_type": "stream",
     "text": [
      "Twinkle,twinkle,little star,        \n",
      "        How I wonder what you are!        \n",
      "               Up above the world so high,\n",
      "               Like a diamond in the sky.\n",
      "Twinkle,twinkle,little star,\n",
      "        How I wonder what you are\n"
     ]
    }
   ],
   "source": [
    "#1 write a python program to print the following string in a specific format\n",
    "print(\"Twinkle,twinkle,little star,        \\n        How I wonder what you are!        \\n               Up above the world so high,\\n               Like a diamond in the sky.\\nTwinkle,twinkle,little star,\\n        How I wonder what you are\")"
   ]
  },
  {
   "cell_type": "code",
   "execution_count": 2,
   "id": "3d368914",
   "metadata": {},
   "outputs": [
    {
     "name": "stdout",
     "output_type": "stream",
     "text": [
      "python version\n",
      "3.8.8 (default, Apr 13 2021, 15:08:07) [MSC v.1916 32 bit (Intel)]\n",
      "python info\n",
      "sys.version_info(major=3, minor=8, micro=8, releaselevel='final', serial=0)\n"
     ]
    }
   ],
   "source": [
    "#2 write a python program to get a python version you are using\n",
    "import sys\n",
    "print(\"python version\");\n",
    "print(sys.version);\n",
    "print(\"python info\");\n",
    "print(sys.version_info);"
   ]
  },
  {
   "cell_type": "code",
   "execution_count": 3,
   "id": "21d9f068",
   "metadata": {},
   "outputs": [
    {
     "name": "stdout",
     "output_type": "stream",
     "text": [
      "current date and time\n",
      "01-01-22 22-21-50\n"
     ]
    }
   ],
   "source": [
    "#3 write a python program to display the current date and time.\n",
    "import datetime as dt\n",
    "n=dt.datetime.now()\n",
    "print(\"current date and time\");\n",
    "print(n.strftime(\"%d-%m-%y %H-%M-%S\"));"
   ]
  },
  {
   "cell_type": "code",
   "execution_count": 4,
   "id": "ff0f952f",
   "metadata": {},
   "outputs": [
    {
     "name": "stdout",
     "output_type": "stream",
     "text": [
      "Enter the radius of the circle: 7\n",
      "Area of the circle is: 153.93804002589985\n"
     ]
    }
   ],
   "source": [
    "#4 write a python program which accepts the radius of the circle from the user and compute the area\n",
    "import math\n",
    "radius=float(input(\"Enter the radius of the circle: \"))\n",
    "area=math.pi*radius*radius\n",
    "print(\"Area of the circle is: {0}\".format(area));"
   ]
  },
  {
   "cell_type": "code",
   "execution_count": 5,
   "id": "b5148105",
   "metadata": {},
   "outputs": [
    {
     "name": "stdout",
     "output_type": "stream",
     "text": [
      "Enter first name:Zain\n",
      "Enter last name:Abideen\n",
      "Abideen Zain\n"
     ]
    }
   ],
   "source": [
    "#5 write a python program which accepts user's first name and last name and print them in reverse order with a space between them.\n",
    "firstname=input(\"Enter first name:\");\n",
    "lastname=input(\"Enter last name:\");\n",
    "print(lastname+\" \"+firstname);"
   ]
  },
  {
   "cell_type": "code",
   "execution_count": 6,
   "id": "80f3ba0e",
   "metadata": {},
   "outputs": [
    {
     "name": "stdout",
     "output_type": "stream",
     "text": [
      "Enter math marks:78\n",
      "Enter english marks:68\n",
      "146\n"
     ]
    }
   ],
   "source": [
    "#6 write a python program which takes two inputs from user and print them addition\n",
    "math=int(input(\"Enter math marks:\"));\n",
    "english=int(input(\"Enter english marks:\"));\n",
    "print(math + english)"
   ]
  },
  {
   "cell_type": "code",
   "execution_count": null,
   "id": "77e2f943",
   "metadata": {},
   "outputs": [],
   "source": []
  }
 ],
 "metadata": {
  "kernelspec": {
   "display_name": "Python 3",
   "language": "python",
   "name": "python3"
  },
  "language_info": {
   "codemirror_mode": {
    "name": "ipython",
    "version": 3
   },
   "file_extension": ".py",
   "mimetype": "text/x-python",
   "name": "python",
   "nbconvert_exporter": "python",
   "pygments_lexer": "ipython3",
   "version": "3.8.8"
  }
 },
 "nbformat": 4,
 "nbformat_minor": 5
}
